{
 "cells": [
  {
   "cell_type": "markdown",
   "metadata": {
    "execution": {
     "iopub.execute_input": "2021-06-15T04:15:34.816212Z",
     "iopub.status.busy": "2021-06-15T04:15:34.815755Z",
     "iopub.status.idle": "2021-06-15T04:15:34.821442Z",
     "shell.execute_reply": "2021-06-15T04:15:34.820568Z",
     "shell.execute_reply.started": "2021-06-15T04:15:34.816103Z"
    },
    "papermill": {
     "duration": 0.02869,
     "end_time": "2021-06-18T08:16:12.444813",
     "exception": false,
     "start_time": "2021-06-18T08:16:12.416123",
     "status": "completed"
    },
    "tags": []
   },
   "source": [
    "#### <h1 style='color:blue'>**Import Librabries**</h1>"
   ]
  },
  {
   "cell_type": "code",
   "execution_count": 1,
   "metadata": {
    "execution": {
     "iopub.execute_input": "2021-06-18T08:16:12.504233Z",
     "iopub.status.busy": "2021-06-18T08:16:12.503073Z",
     "iopub.status.idle": "2021-06-18T08:16:15.447360Z",
     "shell.execute_reply": "2021-06-18T08:16:15.446514Z",
     "shell.execute_reply.started": "2021-06-18T08:12:22.815753Z"
    },
    "papermill": {
     "duration": 2.974933,
     "end_time": "2021-06-18T08:16:15.447520",
     "exception": false,
     "start_time": "2021-06-18T08:16:12.472587",
     "status": "completed"
    },
    "tags": []
   },
   "outputs": [],
   "source": [
    "import pandas as pd\n",
    "import numpy as np\n",
    "import seaborn as sns\n",
    "import plotly.express as px\n",
    "import matplotlib.pyplot as plt\n",
    "%matplotlib inline\n",
    "from sklearn.model_selection import train_test_split\n",
    "from sklearn.linear_model import LogisticRegression\n",
    "from sklearn.neighbors import KNeighborsClassifier\n",
    "from sklearn.svm import SVC\n",
    "from sklearn.tree import DecisionTreeClassifier\n",
    "from sklearn.ensemble import RandomForestClassifier\n",
    "from sklearn.ensemble import AdaBoostClassifier\n",
    "from sklearn.ensemble import GradientBoostingClassifier\n",
    "from xgboost import XGBClassifier\n",
    "import time\n",
    "from sklearn.metrics import precision_recall_fscore_support as score\n",
    "from sklearn.metrics import r2_score, confusion_matrix, accuracy_score, mean_squared_error\n"
   ]
  },
  {
   "cell_type": "markdown",
   "metadata": {
    "papermill": {
     "duration": 0.026958,
     "end_time": "2021-06-18T08:16:15.502174",
     "exception": false,
     "start_time": "2021-06-18T08:16:15.475216",
     "status": "completed"
    },
    "tags": []
   },
   "source": [
    "#### <h1 style='color:blue'>**Read Data**</h1>"
   ]
  },
  {
   "cell_type": "code",
   "execution_count": 2,
   "metadata": {
    "execution": {
     "iopub.execute_input": "2021-06-18T08:16:15.561639Z",
     "iopub.status.busy": "2021-06-18T08:16:15.560990Z",
     "iopub.status.idle": "2021-06-18T08:16:15.580971Z",
     "shell.execute_reply": "2021-06-18T08:16:15.580233Z",
     "shell.execute_reply.started": "2021-06-18T08:12:25.895373Z"
    },
    "papermill": {
     "duration": 0.051673,
     "end_time": "2021-06-18T08:16:15.581150",
     "exception": false,
     "start_time": "2021-06-18T08:16:15.529477",
     "status": "completed"
    },
    "tags": []
   },
   "outputs": [],
   "source": [
    "df_heart = pd.read_csv('../input/heart-attack-analysis-prediction-dataset/heart.csv')"
   ]
  },
  {
   "cell_type": "code",
   "execution_count": 3,
   "metadata": {
    "execution": {
     "iopub.execute_input": "2021-06-18T08:16:15.647658Z",
     "iopub.status.busy": "2021-06-18T08:16:15.646973Z",
     "iopub.status.idle": "2021-06-18T08:16:15.669685Z",
     "shell.execute_reply": "2021-06-18T08:16:15.670208Z",
     "shell.execute_reply.started": "2021-06-18T08:12:25.913123Z"
    },
    "papermill": {
     "duration": 0.061722,
     "end_time": "2021-06-18T08:16:15.670378",
     "exception": false,
     "start_time": "2021-06-18T08:16:15.608656",
     "status": "completed"
    },
    "tags": []
   },
   "outputs": [
    {
     "data": {
      "text/html": [
       "<div>\n",
       "<style scoped>\n",
       "    .dataframe tbody tr th:only-of-type {\n",
       "        vertical-align: middle;\n",
       "    }\n",
       "\n",
       "    .dataframe tbody tr th {\n",
       "        vertical-align: top;\n",
       "    }\n",
       "\n",
       "    .dataframe thead th {\n",
       "        text-align: right;\n",
       "    }\n",
       "</style>\n",
       "<table border=\"1\" class=\"dataframe\">\n",
       "  <thead>\n",
       "    <tr style=\"text-align: right;\">\n",
       "      <th></th>\n",
       "      <th>age</th>\n",
       "      <th>sex</th>\n",
       "      <th>cp</th>\n",
       "      <th>trtbps</th>\n",
       "      <th>chol</th>\n",
       "      <th>fbs</th>\n",
       "      <th>restecg</th>\n",
       "      <th>thalachh</th>\n",
       "      <th>exng</th>\n",
       "      <th>oldpeak</th>\n",
       "      <th>slp</th>\n",
       "      <th>caa</th>\n",
       "      <th>thall</th>\n",
       "      <th>output</th>\n",
       "    </tr>\n",
       "  </thead>\n",
       "  <tbody>\n",
       "    <tr>\n",
       "      <th>0</th>\n",
       "      <td>63</td>\n",
       "      <td>1</td>\n",
       "      <td>3</td>\n",
       "      <td>145</td>\n",
       "      <td>233</td>\n",
       "      <td>1</td>\n",
       "      <td>0</td>\n",
       "      <td>150</td>\n",
       "      <td>0</td>\n",
       "      <td>2.3</td>\n",
       "      <td>0</td>\n",
       "      <td>0</td>\n",
       "      <td>1</td>\n",
       "      <td>1</td>\n",
       "    </tr>\n",
       "    <tr>\n",
       "      <th>1</th>\n",
       "      <td>37</td>\n",
       "      <td>1</td>\n",
       "      <td>2</td>\n",
       "      <td>130</td>\n",
       "      <td>250</td>\n",
       "      <td>0</td>\n",
       "      <td>1</td>\n",
       "      <td>187</td>\n",
       "      <td>0</td>\n",
       "      <td>3.5</td>\n",
       "      <td>0</td>\n",
       "      <td>0</td>\n",
       "      <td>2</td>\n",
       "      <td>1</td>\n",
       "    </tr>\n",
       "    <tr>\n",
       "      <th>2</th>\n",
       "      <td>41</td>\n",
       "      <td>0</td>\n",
       "      <td>1</td>\n",
       "      <td>130</td>\n",
       "      <td>204</td>\n",
       "      <td>0</td>\n",
       "      <td>0</td>\n",
       "      <td>172</td>\n",
       "      <td>0</td>\n",
       "      <td>1.4</td>\n",
       "      <td>2</td>\n",
       "      <td>0</td>\n",
       "      <td>2</td>\n",
       "      <td>1</td>\n",
       "    </tr>\n",
       "    <tr>\n",
       "      <th>3</th>\n",
       "      <td>56</td>\n",
       "      <td>1</td>\n",
       "      <td>1</td>\n",
       "      <td>120</td>\n",
       "      <td>236</td>\n",
       "      <td>0</td>\n",
       "      <td>1</td>\n",
       "      <td>178</td>\n",
       "      <td>0</td>\n",
       "      <td>0.8</td>\n",
       "      <td>2</td>\n",
       "      <td>0</td>\n",
       "      <td>2</td>\n",
       "      <td>1</td>\n",
       "    </tr>\n",
       "    <tr>\n",
       "      <th>4</th>\n",
       "      <td>57</td>\n",
       "      <td>0</td>\n",
       "      <td>0</td>\n",
       "      <td>120</td>\n",
       "      <td>354</td>\n",
       "      <td>0</td>\n",
       "      <td>1</td>\n",
       "      <td>163</td>\n",
       "      <td>1</td>\n",
       "      <td>0.6</td>\n",
       "      <td>2</td>\n",
       "      <td>0</td>\n",
       "      <td>2</td>\n",
       "      <td>1</td>\n",
       "    </tr>\n",
       "  </tbody>\n",
       "</table>\n",
       "</div>"
      ],
      "text/plain": [
       "   age  sex  cp  trtbps  chol  fbs  restecg  thalachh  exng  oldpeak  slp  \\\n",
       "0   63    1   3     145   233    1        0       150     0      2.3    0   \n",
       "1   37    1   2     130   250    0        1       187     0      3.5    0   \n",
       "2   41    0   1     130   204    0        0       172     0      1.4    2   \n",
       "3   56    1   1     120   236    0        1       178     0      0.8    2   \n",
       "4   57    0   0     120   354    0        1       163     1      0.6    2   \n",
       "\n",
       "   caa  thall  output  \n",
       "0    0      1       1  \n",
       "1    0      2       1  \n",
       "2    0      2       1  \n",
       "3    0      2       1  \n",
       "4    0      2       1  "
      ]
     },
     "execution_count": 3,
     "metadata": {},
     "output_type": "execute_result"
    }
   ],
   "source": [
    "df_heart.head()"
   ]
  },
  {
   "cell_type": "code",
   "execution_count": 4,
   "metadata": {
    "execution": {
     "iopub.execute_input": "2021-06-18T08:16:15.730025Z",
     "iopub.status.busy": "2021-06-18T08:16:15.729364Z",
     "iopub.status.idle": "2021-06-18T08:16:15.735734Z",
     "shell.execute_reply": "2021-06-18T08:16:15.735160Z",
     "shell.execute_reply.started": "2021-06-18T08:12:25.955413Z"
    },
    "papermill": {
     "duration": 0.036783,
     "end_time": "2021-06-18T08:16:15.735882",
     "exception": false,
     "start_time": "2021-06-18T08:16:15.699099",
     "status": "completed"
    },
    "tags": []
   },
   "outputs": [
    {
     "data": {
      "text/plain": [
       "(303, 14)"
      ]
     },
     "execution_count": 4,
     "metadata": {},
     "output_type": "execute_result"
    }
   ],
   "source": [
    "df_heart.shape"
   ]
  },
  {
   "cell_type": "code",
   "execution_count": 5,
   "metadata": {
    "execution": {
     "iopub.execute_input": "2021-06-18T08:16:15.813827Z",
     "iopub.status.busy": "2021-06-18T08:16:15.813069Z",
     "iopub.status.idle": "2021-06-18T08:16:15.815922Z",
     "shell.execute_reply": "2021-06-18T08:16:15.816457Z",
     "shell.execute_reply.started": "2021-06-18T08:12:25.964407Z"
    },
    "papermill": {
     "duration": 0.052044,
     "end_time": "2021-06-18T08:16:15.816651",
     "exception": false,
     "start_time": "2021-06-18T08:16:15.764607",
     "status": "completed"
    },
    "tags": []
   },
   "outputs": [
    {
     "name": "stdout",
     "output_type": "stream",
     "text": [
      "<class 'pandas.core.frame.DataFrame'>\n",
      "RangeIndex: 303 entries, 0 to 302\n",
      "Data columns (total 14 columns):\n",
      " #   Column    Non-Null Count  Dtype  \n",
      "---  ------    --------------  -----  \n",
      " 0   age       303 non-null    int64  \n",
      " 1   sex       303 non-null    int64  \n",
      " 2   cp        303 non-null    int64  \n",
      " 3   trtbps    303 non-null    int64  \n",
      " 4   chol      303 non-null    int64  \n",
      " 5   fbs       303 non-null    int64  \n",
      " 6   restecg   303 non-null    int64  \n",
      " 7   thalachh  303 non-null    int64  \n",
      " 8   exng      303 non-null    int64  \n",
      " 9   oldpeak   303 non-null    float64\n",
      " 10  slp       303 non-null    int64  \n",
      " 11  caa       303 non-null    int64  \n",
      " 12  thall     303 non-null    int64  \n",
      " 13  output    303 non-null    int64  \n",
      "dtypes: float64(1), int64(13)\n",
      "memory usage: 33.3 KB\n"
     ]
    }
   ],
   "source": [
    "df_heart.info()"
   ]
  },
  {
   "cell_type": "code",
   "execution_count": 6,
   "metadata": {
    "execution": {
     "iopub.execute_input": "2021-06-18T08:16:15.880996Z",
     "iopub.status.busy": "2021-06-18T08:16:15.880316Z",
     "iopub.status.idle": "2021-06-18T08:16:15.887466Z",
     "shell.execute_reply": "2021-06-18T08:16:15.888025Z",
     "shell.execute_reply.started": "2021-06-18T08:12:25.993307Z"
    },
    "papermill": {
     "duration": 0.03998,
     "end_time": "2021-06-18T08:16:15.888193",
     "exception": false,
     "start_time": "2021-06-18T08:16:15.848213",
     "status": "completed"
    },
    "tags": []
   },
   "outputs": [
    {
     "data": {
      "text/plain": [
       "age         0\n",
       "sex         0\n",
       "cp          0\n",
       "trtbps      0\n",
       "chol        0\n",
       "fbs         0\n",
       "restecg     0\n",
       "thalachh    0\n",
       "exng        0\n",
       "oldpeak     0\n",
       "slp         0\n",
       "caa         0\n",
       "thall       0\n",
       "output      0\n",
       "dtype: int64"
      ]
     },
     "execution_count": 6,
     "metadata": {},
     "output_type": "execute_result"
    }
   ],
   "source": [
    "df_heart.isnull().sum()"
   ]
  },
  {
   "cell_type": "code",
   "execution_count": 7,
   "metadata": {
    "execution": {
     "iopub.execute_input": "2021-06-18T08:16:15.950326Z",
     "iopub.status.busy": "2021-06-18T08:16:15.949681Z",
     "iopub.status.idle": "2021-06-18T08:16:16.012973Z",
     "shell.execute_reply": "2021-06-18T08:16:16.012400Z",
     "shell.execute_reply.started": "2021-06-18T08:12:26.012885Z"
    },
    "papermill": {
     "duration": 0.095666,
     "end_time": "2021-06-18T08:16:16.013123",
     "exception": false,
     "start_time": "2021-06-18T08:16:15.917457",
     "status": "completed"
    },
    "tags": []
   },
   "outputs": [
    {
     "data": {
      "text/html": [
       "<div>\n",
       "<style scoped>\n",
       "    .dataframe tbody tr th:only-of-type {\n",
       "        vertical-align: middle;\n",
       "    }\n",
       "\n",
       "    .dataframe tbody tr th {\n",
       "        vertical-align: top;\n",
       "    }\n",
       "\n",
       "    .dataframe thead th {\n",
       "        text-align: right;\n",
       "    }\n",
       "</style>\n",
       "<table border=\"1\" class=\"dataframe\">\n",
       "  <thead>\n",
       "    <tr style=\"text-align: right;\">\n",
       "      <th></th>\n",
       "      <th>age</th>\n",
       "      <th>sex</th>\n",
       "      <th>cp</th>\n",
       "      <th>trtbps</th>\n",
       "      <th>chol</th>\n",
       "      <th>fbs</th>\n",
       "      <th>restecg</th>\n",
       "      <th>thalachh</th>\n",
       "      <th>exng</th>\n",
       "      <th>oldpeak</th>\n",
       "      <th>slp</th>\n",
       "      <th>caa</th>\n",
       "      <th>thall</th>\n",
       "      <th>output</th>\n",
       "    </tr>\n",
       "  </thead>\n",
       "  <tbody>\n",
       "    <tr>\n",
       "      <th>count</th>\n",
       "      <td>303.000000</td>\n",
       "      <td>303.000000</td>\n",
       "      <td>303.000000</td>\n",
       "      <td>303.000000</td>\n",
       "      <td>303.000000</td>\n",
       "      <td>303.000000</td>\n",
       "      <td>303.000000</td>\n",
       "      <td>303.000000</td>\n",
       "      <td>303.000000</td>\n",
       "      <td>303.000000</td>\n",
       "      <td>303.000000</td>\n",
       "      <td>303.000000</td>\n",
       "      <td>303.000000</td>\n",
       "      <td>303.000000</td>\n",
       "    </tr>\n",
       "    <tr>\n",
       "      <th>mean</th>\n",
       "      <td>54.366337</td>\n",
       "      <td>0.683168</td>\n",
       "      <td>0.966997</td>\n",
       "      <td>131.623762</td>\n",
       "      <td>246.264026</td>\n",
       "      <td>0.148515</td>\n",
       "      <td>0.528053</td>\n",
       "      <td>149.646865</td>\n",
       "      <td>0.326733</td>\n",
       "      <td>1.039604</td>\n",
       "      <td>1.399340</td>\n",
       "      <td>0.729373</td>\n",
       "      <td>2.313531</td>\n",
       "      <td>0.544554</td>\n",
       "    </tr>\n",
       "    <tr>\n",
       "      <th>std</th>\n",
       "      <td>9.082101</td>\n",
       "      <td>0.466011</td>\n",
       "      <td>1.032052</td>\n",
       "      <td>17.538143</td>\n",
       "      <td>51.830751</td>\n",
       "      <td>0.356198</td>\n",
       "      <td>0.525860</td>\n",
       "      <td>22.905161</td>\n",
       "      <td>0.469794</td>\n",
       "      <td>1.161075</td>\n",
       "      <td>0.616226</td>\n",
       "      <td>1.022606</td>\n",
       "      <td>0.612277</td>\n",
       "      <td>0.498835</td>\n",
       "    </tr>\n",
       "    <tr>\n",
       "      <th>min</th>\n",
       "      <td>29.000000</td>\n",
       "      <td>0.000000</td>\n",
       "      <td>0.000000</td>\n",
       "      <td>94.000000</td>\n",
       "      <td>126.000000</td>\n",
       "      <td>0.000000</td>\n",
       "      <td>0.000000</td>\n",
       "      <td>71.000000</td>\n",
       "      <td>0.000000</td>\n",
       "      <td>0.000000</td>\n",
       "      <td>0.000000</td>\n",
       "      <td>0.000000</td>\n",
       "      <td>0.000000</td>\n",
       "      <td>0.000000</td>\n",
       "    </tr>\n",
       "    <tr>\n",
       "      <th>25%</th>\n",
       "      <td>47.500000</td>\n",
       "      <td>0.000000</td>\n",
       "      <td>0.000000</td>\n",
       "      <td>120.000000</td>\n",
       "      <td>211.000000</td>\n",
       "      <td>0.000000</td>\n",
       "      <td>0.000000</td>\n",
       "      <td>133.500000</td>\n",
       "      <td>0.000000</td>\n",
       "      <td>0.000000</td>\n",
       "      <td>1.000000</td>\n",
       "      <td>0.000000</td>\n",
       "      <td>2.000000</td>\n",
       "      <td>0.000000</td>\n",
       "    </tr>\n",
       "    <tr>\n",
       "      <th>50%</th>\n",
       "      <td>55.000000</td>\n",
       "      <td>1.000000</td>\n",
       "      <td>1.000000</td>\n",
       "      <td>130.000000</td>\n",
       "      <td>240.000000</td>\n",
       "      <td>0.000000</td>\n",
       "      <td>1.000000</td>\n",
       "      <td>153.000000</td>\n",
       "      <td>0.000000</td>\n",
       "      <td>0.800000</td>\n",
       "      <td>1.000000</td>\n",
       "      <td>0.000000</td>\n",
       "      <td>2.000000</td>\n",
       "      <td>1.000000</td>\n",
       "    </tr>\n",
       "    <tr>\n",
       "      <th>75%</th>\n",
       "      <td>61.000000</td>\n",
       "      <td>1.000000</td>\n",
       "      <td>2.000000</td>\n",
       "      <td>140.000000</td>\n",
       "      <td>274.500000</td>\n",
       "      <td>0.000000</td>\n",
       "      <td>1.000000</td>\n",
       "      <td>166.000000</td>\n",
       "      <td>1.000000</td>\n",
       "      <td>1.600000</td>\n",
       "      <td>2.000000</td>\n",
       "      <td>1.000000</td>\n",
       "      <td>3.000000</td>\n",
       "      <td>1.000000</td>\n",
       "    </tr>\n",
       "    <tr>\n",
       "      <th>max</th>\n",
       "      <td>77.000000</td>\n",
       "      <td>1.000000</td>\n",
       "      <td>3.000000</td>\n",
       "      <td>200.000000</td>\n",
       "      <td>564.000000</td>\n",
       "      <td>1.000000</td>\n",
       "      <td>2.000000</td>\n",
       "      <td>202.000000</td>\n",
       "      <td>1.000000</td>\n",
       "      <td>6.200000</td>\n",
       "      <td>2.000000</td>\n",
       "      <td>4.000000</td>\n",
       "      <td>3.000000</td>\n",
       "      <td>1.000000</td>\n",
       "    </tr>\n",
       "  </tbody>\n",
       "</table>\n",
       "</div>"
      ],
      "text/plain": [
       "              age         sex          cp      trtbps        chol         fbs  \\\n",
       "count  303.000000  303.000000  303.000000  303.000000  303.000000  303.000000   \n",
       "mean    54.366337    0.683168    0.966997  131.623762  246.264026    0.148515   \n",
       "std      9.082101    0.466011    1.032052   17.538143   51.830751    0.356198   \n",
       "min     29.000000    0.000000    0.000000   94.000000  126.000000    0.000000   \n",
       "25%     47.500000    0.000000    0.000000  120.000000  211.000000    0.000000   \n",
       "50%     55.000000    1.000000    1.000000  130.000000  240.000000    0.000000   \n",
       "75%     61.000000    1.000000    2.000000  140.000000  274.500000    0.000000   \n",
       "max     77.000000    1.000000    3.000000  200.000000  564.000000    1.000000   \n",
       "\n",
       "          restecg    thalachh        exng     oldpeak         slp         caa  \\\n",
       "count  303.000000  303.000000  303.000000  303.000000  303.000000  303.000000   \n",
       "mean     0.528053  149.646865    0.326733    1.039604    1.399340    0.729373   \n",
       "std      0.525860   22.905161    0.469794    1.161075    0.616226    1.022606   \n",
       "min      0.000000   71.000000    0.000000    0.000000    0.000000    0.000000   \n",
       "25%      0.000000  133.500000    0.000000    0.000000    1.000000    0.000000   \n",
       "50%      1.000000  153.000000    0.000000    0.800000    1.000000    0.000000   \n",
       "75%      1.000000  166.000000    1.000000    1.600000    2.000000    1.000000   \n",
       "max      2.000000  202.000000    1.000000    6.200000    2.000000    4.000000   \n",
       "\n",
       "            thall      output  \n",
       "count  303.000000  303.000000  \n",
       "mean     2.313531    0.544554  \n",
       "std      0.612277    0.498835  \n",
       "min      0.000000    0.000000  \n",
       "25%      2.000000    0.000000  \n",
       "50%      2.000000    1.000000  \n",
       "75%      3.000000    1.000000  \n",
       "max      3.000000    1.000000  "
      ]
     },
     "execution_count": 7,
     "metadata": {},
     "output_type": "execute_result"
    }
   ],
   "source": [
    "df_heart.describe()"
   ]
  },
  {
   "cell_type": "code",
   "execution_count": 8,
   "metadata": {
    "execution": {
     "iopub.execute_input": "2021-06-18T08:16:16.080143Z",
     "iopub.status.busy": "2021-06-18T08:16:16.079487Z",
     "iopub.status.idle": "2021-06-18T08:16:16.083723Z",
     "shell.execute_reply": "2021-06-18T08:16:16.083203Z",
     "shell.execute_reply.started": "2021-06-18T08:12:26.088814Z"
    },
    "papermill": {
     "duration": 0.04066,
     "end_time": "2021-06-18T08:16:16.083867",
     "exception": false,
     "start_time": "2021-06-18T08:16:16.043207",
     "status": "completed"
    },
    "tags": []
   },
   "outputs": [
    {
     "data": {
      "text/plain": [
       "1    165\n",
       "0    138\n",
       "Name: output, dtype: int64"
      ]
     },
     "execution_count": 8,
     "metadata": {},
     "output_type": "execute_result"
    }
   ],
   "source": [
    "df_heart['output'].value_counts()"
   ]
  },
  {
   "cell_type": "code",
   "execution_count": 9,
   "metadata": {
    "execution": {
     "iopub.execute_input": "2021-06-18T08:16:16.146925Z",
     "iopub.status.busy": "2021-06-18T08:16:16.146288Z",
     "iopub.status.idle": "2021-06-18T08:16:16.320509Z",
     "shell.execute_reply": "2021-06-18T08:16:16.319966Z",
     "shell.execute_reply.started": "2021-06-18T08:12:26.101062Z"
    },
    "papermill": {
     "duration": 0.206639,
     "end_time": "2021-06-18T08:16:16.320663",
     "exception": false,
     "start_time": "2021-06-18T08:16:16.114024",
     "status": "completed"
    },
    "tags": []
   },
   "outputs": [
    {
     "name": "stderr",
     "output_type": "stream",
     "text": [
      "/opt/conda/lib/python3.7/site-packages/seaborn/_decorators.py:43: FutureWarning: Pass the following variable as a keyword arg: x. From version 0.12, the only valid positional argument will be `data`, and passing other arguments without an explicit keyword will result in an error or misinterpretation.\n",
      "  FutureWarning\n"
     ]
    },
    {
     "data": {
      "text/plain": [
       "<AxesSubplot:xlabel='output', ylabel='count'>"
      ]
     },
     "execution_count": 9,
     "metadata": {},
     "output_type": "execute_result"
    },
    {
     "data": {
      "image/png": "[encoded data removed]",
      "text/plain": [
       "<Figure size 432x288 with 1 Axes>"
      ]
     },
     "metadata": {
      "needs_background": "light"
     },
     "output_type": "display_data"
    }
   ],
   "source": [
    "sns.countplot(df_heart['output'])"
   ]
  },
  {
   "cell_type": "code",
   "execution_count": 10,
   "metadata": {
    "execution": {
     "iopub.execute_input": "2021-06-18T08:16:16.387938Z",
     "iopub.status.busy": "2021-06-18T08:16:16.387193Z",
     "iopub.status.idle": "2021-06-18T08:16:17.534253Z",
     "shell.execute_reply": "2021-06-18T08:16:17.533655Z",
     "shell.execute_reply.started": "2021-06-18T08:12:26.273005Z"
    },
    "papermill": {
     "duration": 1.182522,
     "end_time": "2021-06-18T08:16:17.534398",
     "exception": false,
     "start_time": "2021-06-18T08:16:16.351876",
     "status": "completed"
    },
    "tags": []
   },
   "outputs": [
    {
     "data": {
      "text/html": [
       "        <script type=\"text/javascript\">\n",
       "        window.PlotlyConfig = {MathJaxConfig: 'local'};\n",
       "        if (window.MathJax) {MathJax.Hub.Config({SVG: {font: \"STIX-Web\"}});}\n",
       "        if (typeof require !== 'undefined') {\n",
       "        require.undef(\"plotly\");\n",
       "        requirejs.config({\n",
       "            paths: {\n",
       "                'plotly': ['https://cdn.plot.ly/plotly-latest.min']\n",
       "            }\n",
       "        });\n",
       "        require(['plotly'], function(Plotly) {\n",
       "            window._Plotly = Plotly;\n",
       "        });\n",
       "        }\n",
       "        </script>\n",
       "        "
      ]
     },
     "metadata": {},
     "output_type": "display_data"
    },
    {
     "data": {
      "text/html": [
       "<div>                            <div id=\"536a1da9-42d9-49b5-9bb4-12f94fd1c89a\" class=\"plotly-graph-div\" style=\"height:525px; width:100%;\"></div>            <script type=\"text/javascript\">                require([\"plotly\"], function(Plotly) {                    window.PLOTLYENV=window.PLOTLYENV || {};                                    if (document.getElementById(\"536a1da9-42d9-49b5-9bb4-12f94fd1c89a\")) {                    Plotly.newPlot(                        \"536a1da9-42d9-49b5-9bb4-12f94fd1c89a\",                        [{\"domain\": {\"x\": [0.0, 1.0], \"y\": [0.0, 1.0]}, \"hole\": 0.5, \"hovertemplate\": \"output=%{label}<extra></extra>\", \"labels\": [1, 1, 1, 1, 1, 1, 1, 1, 1, 1, 1, 1, 1, 1, 1, 1, 1, 1, 1, 1, 1, 1, 1, 1, 1, 1, 1, 1, 1, 1, 1, 1, 1, 1, 1, 1, 1, 1, 1, 1, 1, 1, 1, 1, 1, 1, 1, 1, 1, 1, 1, 1, 1, 1, 1, 1, 1, 1, 1, 1, 1, 1, 1, 1, 1, 1, 1, 1, 1, 1, 1, 1, 1, 1, 1, 1, 1, 1, 1, 1, 1, 1, 1, 1, 1, 1, 1, 1, 1, 1, 1, 1, 1, 1, 1, 1, 1, 1, 1, 1, 1, 1, 1, 1, 1, 1, 1, 1, 1, 1, 1, 1, 1, 1, 1, 1, 1, 1, 1, 1, 1, 1, 1, 1, 1, 1, 1, 1, 1, 1, 1, 1, 1, 1, 1, 1, 1, 1, 1, 1, 1, 1, 1, 1, 1, 1, 1, 1, 1, 1, 1, 1, 1, 1, 1, 1, 1, 1, 1, 1, 1, 1, 1, 1, 1, 0, 0, 0, 0, 0, 0, 0, 0, 0, 0, 0, 0, 0, 0, 0, 0, 0, 0, 0, 0, 0, 0, 0, 0, 0, 0, 0, 0, 0, 0, 0, 0, 0, 0, 0, 0, 0, 0, 0, 0, 0, 0, 0, 0, 0, 0, 0, 0, 0, 0, 0, 0, 0, 0, 0, 0, 0, 0, 0, 0, 0, 0, 0, 0, 0, 0, 0, 0, 0, 0, 0, 0, 0, 0, 0, 0, 0, 0, 0, 0, 0, 0, 0, 0, 0, 0, 0, 0, 0, 0, 0, 0, 0, 0, 0, 0, 0, 0, 0, 0, 0, 0, 0, 0, 0, 0, 0, 0, 0, 0, 0, 0, 0, 0, 0, 0, 0, 0, 0, 0, 0, 0, 0, 0, 0, 0, 0, 0, 0, 0, 0, 0, 0, 0, 0, 0, 0, 0], \"legendgroup\": \"\", \"name\": \"\", \"showlegend\": true, \"type\": \"pie\"}],                        {\"legend\": {\"tracegroupgap\": 0}, \"template\": {\"data\": {\"bar\": [{\"error_x\": {\"color\": \"#f2f5fa\"}, \"error_y\": {\"color\": \"#f2f5fa\"}, \"marker\": {\"line\": {\"color\": \"rgb(17,17,17)\", \"width\": 0.5}}, \"type\": \"bar\"}], \"barpolar\": [{\"marker\": {\"line\": {\"color\": \"rgb(17,17,17)\", \"width\": 0.5}}, \"type\": \"barpolar\"}], \"carpet\": [{\"aaxis\": {\"endlinecolor\": \"#A2B1C6\", \"gridcolor\": \"#506784\", \"linecolor\": \"#506784\", \"minorgridcolor\": \"#506784\", \"startlinecolor\": \"#A2B1C6\"}, \"baxis\": {\"endlinecolor\": \"#A2B1C6\", \"gridcolor\": \"#506784\", \"linecolor\": \"#506784\", \"minorgridcolor\": \"#506784\", \"startlinecolor\": \"#A2B1C6\"}, \"type\": \"carpet\"}], \"choropleth\": [{\"colorbar\": {\"outlinewidth\": 0, \"ticks\": \"\"}, \"type\": \"choropleth\"}], \"contour\": [{\"colorbar\": {\"outlinewidth\": 0, \"ticks\": \"\"}, \"colorscale\": [[0.0, \"#0d0887\"], [0.1111111111111111, \"#46039f\"], [0.2222222222222222, \"#7201a8\"], [0.3333333333333333, \"#9c179e\"], [0.4444444444444444, \"#bd3786\"], [0.5555555555555556, \"#d8576b\"], [0.6666666666666666, \"#ed7953\"], [0.7777777777777778, \"#fb9f3a\"], [0.8888888888888888, \"#fdca26\"], [1.0, \"#f0f921\"]], \"type\": \"contour\"}], \"contourcarpet\": [{\"colorbar\": {\"outlinewidth\": 0, \"ticks\": \"\"}, \"type\": \"contourcarpet\"}], \"heatmap\": [{\"colorbar\": {\"outlinewidth\": 0, \"ticks\": \"\"}, \"colorscale\": [[0.0, \"#0d0887\"], [0.1111111111111111, \"#46039f\"], [0.2222222222222222, \"#7201a8\"], [0.3333333333333333, \"#9c179e\"], [0.4444444444444444, \"#bd3786\"], [0.5555555555555556, \"#d8576b\"], [0.6666666666666666, \"#ed7953\"], [0.7777777777777778, \"#fb9f3a\"], [0.8888888888888888, \"#fdca26\"], [1.0, \"#f0f921\"]], \"type\": \"heatmap\"}], \"heatmapgl\": [{\"colorbar\": {\"outlinewidth\": 0, \"ticks\": \"\"}, \"colorscale\": [[0.0, \"#0d0887\"], [0.1111111111111111, \"#46039f\"], [0.2222222222222222, \"#7201a8\"], [0.3333333333333333, \"#9c179e\"], [0.4444444444444444, \"#bd3786\"], [0.5555555555555556, \"#d8576b\"], [0.6666666666666666, \"#ed7953\"], [0.7777777777777778, \"#fb9f3a\"], [0.8888888888888888, \"#fdca26\"], [1.0, \"#f0f921\"]], \"type\": \"heatmapgl\"}], \"histogram\": [{\"marker\": {\"colorbar\": {\"outlinewidth\": 0, \"ticks\": \"\"}}, \"type\": \"histogram\"}], \"histogram2d\": [{\"colorbar\": {\"outlinewidth\": 0, \"ticks\": \"\"}, \"colorscale\": [[0.0, \"#0d0887\"], [0.1111111111111111, \"#46039f\"], [0.2222222222222222, \"#7201a8\"], [0.3333333333333333, \"#9c179e\"], [0.4444444444444444, \"#bd3786\"], [0.5555555555555556, \"#d8576b\"], [0.6666666666666666, \"#ed7953\"], [0.7777777777777778, \"#fb9f3a\"], [0.8888888888888888, \"#fdca26\"], [1.0, \"#f0f921\"]], \"type\": \"histogram2d\"}], \"histogram2dcontour\": [{\"colorbar\": {\"outlinewidth\": 0, \"ticks\": \"\"}, \"colorscale\": [[0.0, \"#0d0887\"], [0.1111111111111111, \"#46039f\"], [0.2222222222222222, \"#7201a8\"], [0.3333333333333333, \"#9c179e\"], [0.4444444444444444, \"#bd3786\"], [0.5555555555555556, \"#d8576b\"], [0.6666666666666666, \"#ed7953\"], [0.7777777777777778, \"#fb9f3a\"], [0.8888888888888888, \"#fdca26\"], [1.0, \"#f0f921\"]], \"type\": \"histogram2dcontour\"}], \"mesh3d\": [{\"colorbar\": {\"outlinewidth\": 0, \"ticks\": \"\"}, \"type\": \"mesh3d\"}], \"parcoords\": [{\"line\": {\"colorbar\": {\"outlinewidth\": 0, \"ticks\": \"\"}}, \"type\": \"parcoords\"}], \"pie\": [{\"automargin\": true, \"type\": \"pie\"}], \"scatter\": [{\"marker\": {\"line\": {\"color\": \"#283442\"}}, \"type\": \"scatter\"}], \"scatter3d\": [{\"line\": {\"colorbar\": {\"outlinewidth\": 0, \"ticks\": \"\"}}, \"marker\": {\"colorbar\": {\"outlinewidth\": 0, \"ticks\": \"\"}}, \"type\": \"scatter3d\"}], \"scattercarpet\": [{\"marker\": {\"colorbar\": {\"outlinewidth\": 0, \"ticks\": \"\"}}, \"type\": \"scattercarpet\"}], \"scattergeo\": [{\"marker\": {\"colorbar\": {\"outlinewidth\": 0, \"ticks\": \"\"}}, \"type\": \"scattergeo\"}], \"scattergl\": [{\"marker\": {\"line\": {\"color\": \"#283442\"}}, \"type\": \"scattergl\"}], \"scattermapbox\": [{\"marker\": {\"colorbar\": {\"outlinewidth\": 0, \"ticks\": \"\"}}, \"type\": \"scattermapbox\"}], \"scatterpolar\": [{\"marker\": {\"colorbar\": {\"outlinewidth\": 0, \"ticks\": \"\"}}, \"type\": \"scatterpolar\"}], \"scatterpolargl\": [{\"marker\": {\"colorbar\": {\"outlinewidth\": 0, \"ticks\": \"\"}}, \"type\": \"scatterpolargl\"}], \"scatterternary\": [{\"marker\": {\"colorbar\": {\"outlinewidth\": 0, \"ticks\": \"\"}}, \"type\": \"scatterternary\"}], \"surface\": [{\"colorbar\": {\"outlinewidth\": 0, \"ticks\": \"\"}, \"colorscale\": [[0.0, \"#0d0887\"], [0.1111111111111111, \"#46039f\"], [0.2222222222222222, \"#7201a8\"], [0.3333333333333333, \"#9c179e\"], [0.4444444444444444, \"#bd3786\"], [0.5555555555555556, \"#d8576b\"], [0.6666666666666666, \"#ed7953\"], [0.7777777777777778, \"#fb9f3a\"], [0.8888888888888888, \"#fdca26\"], [1.0, \"#f0f921\"]], \"type\": \"surface\"}], \"table\": [{\"cells\": {\"fill\": {\"color\": \"#506784\"}, \"line\": {\"color\": \"rgb(17,17,17)\"}}, \"header\": {\"fill\": {\"color\": \"#2a3f5f\"}, \"line\": {\"color\": \"rgb(17,17,17)\"}}, \"type\": \"table\"}]}, \"layout\": {\"annotationdefaults\": {\"arrowcolor\": \"#f2f5fa\", \"arrowhead\": 0, \"arrowwidth\": 1}, \"autotypenumbers\": \"strict\", \"coloraxis\": {\"colorbar\": {\"outlinewidth\": 0, \"ticks\": \"\"}}, \"colorscale\": {\"diverging\": [[0, \"#8e0152\"], [0.1, \"#c51b7d\"], [0.2, \"#de77ae\"], [0.3, \"#f1b6da\"], [0.4, \"#fde0ef\"], [0.5, \"#f7f7f7\"], [0.6, \"#e6f5d0\"], [0.7, \"#b8e186\"], [0.8, \"#7fbc41\"], [0.9, \"#4d9221\"], [1, \"#276419\"]], \"sequential\": [[0.0, \"#0d0887\"], [0.1111111111111111, \"#46039f\"], [0.2222222222222222, \"#7201a8\"], [0.3333333333333333, \"#9c179e\"], [0.4444444444444444, \"#bd3786\"], [0.5555555555555556, \"#d8576b\"], [0.6666666666666666, \"#ed7953\"], [0.7777777777777778, \"#fb9f3a\"], [0.8888888888888888, \"#fdca26\"], [1.0, \"#f0f921\"]], \"sequentialminus\": [[0.0, \"#0d0887\"], [0.1111111111111111, \"#46039f\"], [0.2222222222222222, \"#7201a8\"], [0.3333333333333333, \"#9c179e\"], [0.4444444444444444, \"#bd3786\"], [0.5555555555555556, \"#d8576b\"], [0.6666666666666666, \"#ed7953\"], [0.7777777777777778, \"#fb9f3a\"], [0.8888888888888888, \"#fdca26\"], [1.0, \"#f0f921\"]]}, \"colorway\": [\"#636efa\", \"#EF553B\", \"#00cc96\", \"#ab63fa\", \"#FFA15A\", \"#19d3f3\", \"#FF6692\", \"#B6E880\", \"#FF97FF\", \"#FECB52\"], \"font\": {\"color\": \"#f2f5fa\"}, \"geo\": {\"bgcolor\": \"rgb(17,17,17)\", \"lakecolor\": \"rgb(17,17,17)\", \"landcolor\": \"rgb(17,17,17)\", \"showlakes\": true, \"showland\": true, \"subunitcolor\": \"#506784\"}, \"hoverlabel\": {\"align\": \"left\"}, \"hovermode\": \"closest\", \"mapbox\": {\"style\": \"dark\"}, \"paper_bgcolor\": \"rgb(17,17,17)\", \"plot_bgcolor\": \"rgb(17,17,17)\", \"polar\": {\"angularaxis\": {\"gridcolor\": \"#506784\", \"linecolor\": \"#506784\", \"ticks\": \"\"}, \"bgcolor\": \"rgb(17,17,17)\", \"radialaxis\": {\"gridcolor\": \"#506784\", \"linecolor\": \"#506784\", \"ticks\": \"\"}}, \"scene\": {\"xaxis\": {\"backgroundcolor\": \"rgb(17,17,17)\", \"gridcolor\": \"#506784\", \"gridwidth\": 2, \"linecolor\": \"#506784\", \"showbackground\": true, \"ticks\": \"\", \"zerolinecolor\": \"#C8D4E3\"}, \"yaxis\": {\"backgroundcolor\": \"rgb(17,17,17)\", \"gridcolor\": \"#506784\", \"gridwidth\": 2, \"linecolor\": \"#506784\", \"showbackground\": true, \"ticks\": \"\", \"zerolinecolor\": \"#C8D4E3\"}, \"zaxis\": {\"backgroundcolor\": \"rgb(17,17,17)\", \"gridcolor\": \"#506784\", \"gridwidth\": 2, \"linecolor\": \"#506784\", \"showbackground\": true, \"ticks\": \"\", \"zerolinecolor\": \"#C8D4E3\"}}, \"shapedefaults\": {\"line\": {\"color\": \"#f2f5fa\"}}, \"sliderdefaults\": {\"bgcolor\": \"#C8D4E3\", \"bordercolor\": \"rgb(17,17,17)\", \"borderwidth\": 1, \"tickwidth\": 0}, \"ternary\": {\"aaxis\": {\"gridcolor\": \"#506784\", \"linecolor\": \"#506784\", \"ticks\": \"\"}, \"baxis\": {\"gridcolor\": \"#506784\", \"linecolor\": \"#506784\", \"ticks\": \"\"}, \"bgcolor\": \"rgb(17,17,17)\", \"caxis\": {\"gridcolor\": \"#506784\", \"linecolor\": \"#506784\", \"ticks\": \"\"}}, \"title\": {\"x\": 0.05}, \"updatemenudefaults\": {\"bgcolor\": \"#506784\", \"borderwidth\": 0}, \"xaxis\": {\"automargin\": true, \"gridcolor\": \"#283442\", \"linecolor\": \"#506784\", \"ticks\": \"\", \"title\": {\"standoff\": 15}, \"zerolinecolor\": \"#283442\", \"zerolinewidth\": 2}, \"yaxis\": {\"automargin\": true, \"gridcolor\": \"#283442\", \"linecolor\": \"#506784\", \"ticks\": \"\", \"title\": {\"standoff\": 15}, \"zerolinecolor\": \"#283442\", \"zerolinewidth\": 2}}}, \"title\": {\"text\": \"Output\"}},                        {\"responsive\": true}                    ).then(function(){\n",
       "                            \n",
       "var gd = document.getElementById('536a1da9-42d9-49b5-9bb4-12f94fd1c89a');\n",
       "var x = new MutationObserver(function (mutations, observer) {{\n",
       "        var display = window.getComputedStyle(gd).display;\n",
       "        if (!display || display === 'none') {{\n",
       "            console.log([gd, 'removed!']);\n",
       "            Plotly.purge(gd);\n",
       "            observer.disconnect();\n",
       "        }}\n",
       "}});\n",
       "\n",
       "// Listen for the removal of the full notebook cells\n",
       "var notebookContainer = gd.closest('#notebook-container');\n",
       "if (notebookContainer) {{\n",
       "    x.observe(notebookContainer, {childList: true});\n",
       "}}\n",
       "\n",
       "// Listen for the clearing of the current output cell\n",
       "var outputEl = gd.closest('.output');\n",
       "if (outputEl) {{\n",
       "    x.observe(outputEl, {childList: true});\n",
       "}}\n",
       "\n",
       "                        })                };                });            </script>        </div>"
      ]
     },
     "metadata": {},
     "output_type": "display_data"
    }
   ],
   "source": [
    "ax = px.pie(df_heart, names = 'output', template = 'plotly_dark', title = 'Output', hole = 0.5)\n",
    "ax.show()"
   ]
  },
  {
   "cell_type": "code",
   "execution_count": 11,
   "metadata": {
    "execution": {
     "iopub.execute_input": "2021-06-18T08:16:17.607545Z",
     "iopub.status.busy": "2021-06-18T08:16:17.606884Z",
     "iopub.status.idle": "2021-06-18T08:16:18.940504Z",
     "shell.execute_reply": "2021-06-18T08:16:18.939890Z",
     "shell.execute_reply.started": "2021-06-18T08:12:27.419894Z"
    },
    "papermill": {
     "duration": 1.371831,
     "end_time": "2021-06-18T08:16:18.940655",
     "exception": false,
     "start_time": "2021-06-18T08:16:17.568824",
     "status": "completed"
    },
    "tags": []
   },
   "outputs": [
    {
     "data": {
      "text/plain": [
       "<AxesSubplot:>"
      ]
     },
     "execution_count": 11,
     "metadata": {},
     "output_type": "execute_result"
    },
    {
     "data": {
      "image/png": "[encoded data removed]",
      "text/plain": [
       "<Figure size 1152x576 with 2 Axes>"
      ]
     },
     "metadata": {
      "needs_background": "light"
     },
     "output_type": "display_data"
    }
   ],
   "source": [
    "plt.figure(figsize=(16,8))\n",
    "sns.heatmap(df_heart.corr(), linewidth = 1, cmap = 'Reds', annot = True)"
   ]
  },
  {
   "cell_type": "code",
   "execution_count": 12,
   "metadata": {
    "execution": {
     "iopub.execute_input": "2021-06-18T08:16:19.019245Z",
     "iopub.status.busy": "2021-06-18T08:16:19.018596Z",
     "iopub.status.idle": "2021-06-18T08:16:19.021418Z",
     "shell.execute_reply": "2021-06-18T08:16:19.020894Z",
     "shell.execute_reply.started": "2021-06-18T08:12:28.71701Z"
    },
    "papermill": {
     "duration": 0.044643,
     "end_time": "2021-06-18T08:16:19.021586",
     "exception": false,
     "start_time": "2021-06-18T08:16:18.976943",
     "status": "completed"
    },
    "tags": []
   },
   "outputs": [],
   "source": [
    "X=df_heart.iloc[:, :-1].values\n",
    "y=df_heart.iloc[:, -1].values"
   ]
  },
  {
   "cell_type": "code",
   "execution_count": 13,
   "metadata": {
    "execution": {
     "iopub.execute_input": "2021-06-18T08:16:19.101955Z",
     "iopub.status.busy": "2021-06-18T08:16:19.100915Z",
     "iopub.status.idle": "2021-06-18T08:16:19.104062Z",
     "shell.execute_reply": "2021-06-18T08:16:19.103436Z",
     "shell.execute_reply.started": "2021-06-18T08:12:28.726119Z"
    },
    "papermill": {
     "duration": 0.04608,
     "end_time": "2021-06-18T08:16:19.104196",
     "exception": false,
     "start_time": "2021-06-18T08:16:19.058116",
     "status": "completed"
    },
    "tags": []
   },
   "outputs": [],
   "source": [
    "X_train, X_test, y_train, y_test = train_test_split(X, y, test_size = 0.2, random_state = 0)"
   ]
  },
  {
   "cell_type": "code",
   "execution_count": 14,
   "metadata": {
    "execution": {
     "iopub.execute_input": "2021-06-18T08:16:19.180412Z",
     "iopub.status.busy": "2021-06-18T08:16:19.179810Z",
     "iopub.status.idle": "2021-06-18T08:16:19.186743Z",
     "shell.execute_reply": "2021-06-18T08:16:19.186220Z",
     "shell.execute_reply.started": "2021-06-18T08:12:28.741173Z"
    },
    "papermill": {
     "duration": 0.045903,
     "end_time": "2021-06-18T08:16:19.186891",
     "exception": false,
     "start_time": "2021-06-18T08:16:19.140988",
     "status": "completed"
    },
    "tags": []
   },
   "outputs": [
    {
     "name": "stdout",
     "output_type": "stream",
     "text": [
      "Shape of train_dataset : (242, 13) (242,)\n",
      "Shape of train_dataset : (61, 13) (61,)\n"
     ]
    }
   ],
   "source": [
    "print('Shape of train_dataset :', X_train.shape, y_train.shape)\n",
    "print('Shape of train_dataset :', X_test.shape, y_test.shape)"
   ]
  },
  {
   "cell_type": "markdown",
   "metadata": {
    "papermill": {
     "duration": 0.036972,
     "end_time": "2021-06-18T08:16:19.260619",
     "exception": false,
     "start_time": "2021-06-18T08:16:19.223647",
     "status": "completed"
    },
    "tags": []
   },
   "source": [
    "### <h1 style='color:blue'>**Model Building**</h1>"
   ]
  },
  {
   "cell_type": "code",
   "execution_count": 15,
   "metadata": {
    "execution": {
     "iopub.execute_input": "2021-06-18T08:16:19.343044Z",
     "iopub.status.busy": "2021-06-18T08:16:19.342331Z",
     "iopub.status.idle": "2021-06-18T08:16:19.345572Z",
     "shell.execute_reply": "2021-06-18T08:16:19.345070Z",
     "shell.execute_reply.started": "2021-06-18T08:12:28.754515Z"
    },
    "papermill": {
     "duration": 0.048753,
     "end_time": "2021-06-18T08:16:19.345718",
     "exception": false,
     "start_time": "2021-06-18T08:16:19.296965",
     "status": "completed"
    },
    "tags": []
   },
   "outputs": [],
   "source": [
    "def compute(Y_test,Y_pred):\n",
    "    plt.figure(figsize=(7,3))\n",
    "    cm=confusion_matrix(Y_test,Y_pred)\n",
    "    class_label = [\"High-risk\", \"Low-risk\"]\n",
    "    df_cm = pd.DataFrame(cm, index=class_label,columns=class_label)\n",
    "    sns.heatmap(df_cm,annot=True,cmap='OrRd',linewidths=2,fmt='d')\n",
    "    plt.title(\"Confusion Matrix\",fontsize=15)\n",
    "    plt.xlabel(\"Predicted\")\n",
    "    plt.ylabel(\"True\")\n",
    "    plt.show()\n",
    "    \n",
    "    \n",
    "    acc=accuracy_score(Y_test,Y_pred)\n",
    "    mse=mean_squared_error(Y_test,Y_pred)\n",
    "    precision, recall, fscore, train_support = score(Y_test, Y_pred, pos_label=1, average='binary')\n",
    "    print('Precision: {} \\nRecall: {} \\nF1-Score: {} \\nAccuracy: {} %\\nMean Square Error: {}'.format(\n",
    "        round(precision, 3), round(recall, 3), round(fscore,3), round((acc*100),3), round((mse),3)))"
   ]
  },
  {
   "cell_type": "markdown",
   "metadata": {
    "papermill": {
     "duration": 0.036347,
     "end_time": "2021-06-18T08:16:19.418703",
     "exception": false,
     "start_time": "2021-06-18T08:16:19.382356",
     "status": "completed"
    },
    "tags": []
   },
   "source": [
    "### **1. Logistic Regression**"
   ]
  },
  {
   "cell_type": "code",
   "execution_count": 16,
   "metadata": {
    "execution": {
     "iopub.execute_input": "2021-06-18T08:16:19.507883Z",
     "iopub.status.busy": "2021-06-18T08:16:19.506697Z",
     "iopub.status.idle": "2021-06-18T08:16:19.738519Z",
     "shell.execute_reply": "2021-06-18T08:16:19.737993Z",
     "shell.execute_reply.started": "2021-06-18T08:12:28.76668Z"
    },
    "papermill": {
     "duration": 0.282768,
     "end_time": "2021-06-18T08:16:19.738695",
     "exception": false,
     "start_time": "2021-06-18T08:16:19.455927",
     "status": "completed"
    },
    "tags": []
   },
   "outputs": [
    {
     "name": "stdout",
     "output_type": "stream",
     "text": [
      "Execution time of model :0.03471 seconds\n"
     ]
    },
    {
     "name": "stderr",
     "output_type": "stream",
     "text": [
      "/opt/conda/lib/python3.7/site-packages/sklearn/linear_model/_logistic.py:765: ConvergenceWarning:\n",
      "\n",
      "lbfgs failed to converge (status=1):\n",
      "STOP: TOTAL NO. of ITERATIONS REACHED LIMIT.\n",
      "\n",
      "Increase the number of iterations (max_iter) or scale the data as shown in:\n",
      "    https://scikit-learn.org/stable/modules/preprocessing.html\n",
      "Please also refer to the documentation for alternative solver options:\n",
      "    https://scikit-learn.org/stable/modules/linear_model.html#logistic-regression\n",
      "\n"
     ]
    },
    {
     "data": {
      "image/png": "[encoded data removed]",
      "text/plain": [
       "<Figure size 504x216 with 2 Axes>"
      ]
     },
     "metadata": {
      "needs_background": "light"
     },
     "output_type": "display_data"
    },
    {
     "name": "stdout",
     "output_type": "stream",
     "text": [
      "Precision: 0.857 \n",
      "Recall: 0.882 \n",
      "F1-Score: 0.87 \n",
      "Accuracy: 85.246 %\n",
      "Mean Square Error: 0.148\n"
     ]
    }
   ],
   "source": [
    "start = time.time()\n",
    "\n",
    "model_lr = LogisticRegression()\n",
    "model_lr.fit(X_train, y_train)\n",
    "y_pred = model_lr.predict(X_test)\n",
    "\n",
    "end = time.time() \n",
    "\n",
    "print(f'Execution time of model :{round((end-start), 5)} seconds')\n",
    "\n",
    "compute(y_test,y_pred)"
   ]
  },
  {
   "cell_type": "markdown",
   "metadata": {
    "papermill": {
     "duration": 0.038642,
     "end_time": "2021-06-18T08:16:19.815624",
     "exception": false,
     "start_time": "2021-06-18T08:16:19.776982",
     "status": "completed"
    },
    "tags": []
   },
   "source": [
    "### **2. KNeighborsClassifier**"
   ]
  },
  {
   "cell_type": "code",
   "execution_count": 17,
   "metadata": {
    "execution": {
     "iopub.execute_input": "2021-06-18T08:16:19.899444Z",
     "iopub.status.busy": "2021-06-18T08:16:19.898757Z",
     "iopub.status.idle": "2021-06-18T08:16:20.168868Z",
     "shell.execute_reply": "2021-06-18T08:16:20.169400Z",
     "shell.execute_reply.started": "2021-06-18T08:12:29.057388Z"
    },
    "papermill": {
     "duration": 0.315841,
     "end_time": "2021-06-18T08:16:20.169581",
     "exception": false,
     "start_time": "2021-06-18T08:16:19.853740",
     "status": "completed"
    },
    "tags": []
   },
   "outputs": [
    {
     "name": "stdout",
     "output_type": "stream",
     "text": [
      "Execution time of model : 0.00574 seconds\n"
     ]
    },
    {
     "data": {
      "image/png": "[encoded data removed]",
      "text/plain": [
       "<Figure size 504x216 with 2 Axes>"
      ]
     },
     "metadata": {
      "needs_background": "light"
     },
     "output_type": "display_data"
    },
    {
     "name": "stdout",
     "output_type": "stream",
     "text": [
      "Precision: 0.688 \n",
      "Recall: 0.647 \n",
      "F1-Score: 0.667 \n",
      "Accuracy: 63.934 %\n",
      "Mean Square Error: 0.361\n"
     ]
    }
   ],
   "source": [
    "start = time.time()\n",
    "\n",
    "model_knn = KNeighborsClassifier()\n",
    "model_knn.fit(X_train, y_train)\n",
    "y_pred = model_knn.predict(X_test)\n",
    "\n",
    "end = time.time()\n",
    "\n",
    "print(f'Execution time of model : {round((end - start), 5)} seconds')\n",
    "\n",
    "compute(y_test, y_pred) "
   ]
  },
  {
   "cell_type": "markdown",
   "metadata": {
    "papermill": {
     "duration": 0.039084,
     "end_time": "2021-06-18T08:16:20.248037",
     "exception": false,
     "start_time": "2021-06-18T08:16:20.208953",
     "status": "completed"
    },
    "tags": []
   },
   "source": [
    "### **3. Support Vector Machine**"
   ]
  },
  {
   "cell_type": "code",
   "execution_count": 18,
   "metadata": {
    "execution": {
     "iopub.execute_input": "2021-06-18T08:16:20.330454Z",
     "iopub.status.busy": "2021-06-18T08:16:20.329802Z",
     "iopub.status.idle": "2021-06-18T08:16:20.586583Z",
     "shell.execute_reply": "2021-06-18T08:16:20.586022Z",
     "shell.execute_reply.started": "2021-06-18T08:12:29.319307Z"
    },
    "papermill": {
     "duration": 0.29914,
     "end_time": "2021-06-18T08:16:20.586767",
     "exception": false,
     "start_time": "2021-06-18T08:16:20.287627",
     "status": "completed"
    },
    "tags": []
   },
   "outputs": [
    {
     "name": "stdout",
     "output_type": "stream",
     "text": [
      "Execution time of model: 0.00552 seconds\n"
     ]
    },
    {
     "data": {
      "image/png": "[encoded data removed]",
      "text/plain": [
       "<Figure size 504x216 with 2 Axes>"
      ]
     },
     "metadata": {
      "needs_background": "light"
     },
     "output_type": "display_data"
    },
    {
     "name": "stdout",
     "output_type": "stream",
     "text": [
      "Precision: 0.674 \n",
      "Recall: 0.853 \n",
      "F1-Score: 0.753 \n",
      "Accuracy: 68.852 %\n",
      "Mean Square Error: 0.311\n"
     ]
    }
   ],
   "source": [
    "start = time.time()\n",
    "\n",
    "model_svm = SVC()\n",
    "model_svm.fit(X_train, y_train)\n",
    "y_pred = model_svm.predict(X_test)\n",
    "\n",
    "end = time.time()\n",
    "\n",
    "print(f'Execution time of model: {round((end - start), 5)} seconds')\n",
    "\n",
    "compute(y_test, y_pred)"
   ]
  },
  {
   "cell_type": "markdown",
   "metadata": {
    "papermill": {
     "duration": 0.04055,
     "end_time": "2021-06-18T08:16:20.668633",
     "exception": false,
     "start_time": "2021-06-18T08:16:20.628083",
     "status": "completed"
    },
    "tags": []
   },
   "source": [
    "### **4.DecisionTreeClassifier**"
   ]
  },
  {
   "cell_type": "code",
   "execution_count": 19,
   "metadata": {
    "execution": {
     "iopub.execute_input": "2021-06-18T08:16:20.756446Z",
     "iopub.status.busy": "2021-06-18T08:16:20.755797Z",
     "iopub.status.idle": "2021-06-18T08:16:21.024636Z",
     "shell.execute_reply": "2021-06-18T08:16:21.025155Z",
     "shell.execute_reply.started": "2021-06-18T08:12:29.571739Z"
    },
    "papermill": {
     "duration": 0.316001,
     "end_time": "2021-06-18T08:16:21.025325",
     "exception": false,
     "start_time": "2021-06-18T08:16:20.709324",
     "status": "completed"
    },
    "tags": []
   },
   "outputs": [
    {
     "name": "stdout",
     "output_type": "stream",
     "text": [
      "Execution time of model : 0.00211 seconds\n"
     ]
    },
    {
     "data": {
      "image/png": "[encoded data removed]",
      "text/plain": [
       "<Figure size 504x216 with 2 Axes>"
      ]
     },
     "metadata": {
      "needs_background": "light"
     },
     "output_type": "display_data"
    },
    {
     "name": "stdout",
     "output_type": "stream",
     "text": [
      "Precision: 0.828 \n",
      "Recall: 0.706 \n",
      "F1-Score: 0.762 \n",
      "Accuracy: 75.41 %\n",
      "Mean Square Error: 0.246\n"
     ]
    }
   ],
   "source": [
    "start = time.time()\n",
    "\n",
    "model_DT = DecisionTreeClassifier()\n",
    "model_DT.fit(X_train, y_train)\n",
    "y_pred = model_DT.predict(X_test)\n",
    "\n",
    "end = time.time()\n",
    "\n",
    "print(f'Execution time of model : {round((end-start), 5)} seconds')\n",
    "\n",
    "compute(y_test, y_pred)"
   ]
  },
  {
   "cell_type": "markdown",
   "metadata": {
    "papermill": {
     "duration": 0.042165,
     "end_time": "2021-06-18T08:16:21.111083",
     "exception": false,
     "start_time": "2021-06-18T08:16:21.068918",
     "status": "completed"
    },
    "tags": []
   },
   "source": [
    "### **5.RandomForestClassifier**"
   ]
  },
  {
   "cell_type": "code",
   "execution_count": 20,
   "metadata": {
    "execution": {
     "iopub.execute_input": "2021-06-18T08:16:21.198741Z",
     "iopub.status.busy": "2021-06-18T08:16:21.198114Z",
     "iopub.status.idle": "2021-06-18T08:16:21.667870Z",
     "shell.execute_reply": "2021-06-18T08:16:21.667206Z",
     "shell.execute_reply.started": "2021-06-18T08:12:29.822417Z"
    },
    "papermill": {
     "duration": 0.514574,
     "end_time": "2021-06-18T08:16:21.668009",
     "exception": false,
     "start_time": "2021-06-18T08:16:21.153435",
     "status": "completed"
    },
    "tags": []
   },
   "outputs": [
    {
     "name": "stdout",
     "output_type": "stream",
     "text": [
      "Execution time of model:0.20639 seconds\n"
     ]
    },
    {
     "data": {
      "image/png": "[encoded data removed]",
      "text/plain": [
       "<Figure size 504x216 with 2 Axes>"
      ]
     },
     "metadata": {
      "needs_background": "light"
     },
     "output_type": "display_data"
    },
    {
     "name": "stdout",
     "output_type": "stream",
     "text": [
      "Precision: 0.833 \n",
      "Recall: 0.882 \n",
      "F1-Score: 0.857 \n",
      "Accuracy: 83.607 %\n",
      "Mean Square Error: 0.164\n"
     ]
    }
   ],
   "source": [
    "start = time.time()\n",
    "\n",
    "model_rf = RandomForestClassifier()\n",
    "model_rf.fit(X_train, y_train)\n",
    "y_pred = model_rf.predict(X_test)\n",
    "\n",
    "end = time.time()\n",
    "\n",
    "print(f'Execution time of model:{round((end - start), 5)} seconds')\n",
    "\n",
    "compute(y_test, y_pred)"
   ]
  },
  {
   "cell_type": "markdown",
   "metadata": {
    "papermill": {
     "duration": 0.043404,
     "end_time": "2021-06-18T08:16:21.755042",
     "exception": false,
     "start_time": "2021-06-18T08:16:21.711638",
     "status": "completed"
    },
    "tags": []
   },
   "source": [
    "### **6.AdaBoostClassifier**"
   ]
  },
  {
   "cell_type": "code",
   "execution_count": 21,
   "metadata": {
    "execution": {
     "iopub.execute_input": "2021-06-18T08:16:21.851892Z",
     "iopub.status.busy": "2021-06-18T08:16:21.851184Z",
     "iopub.status.idle": "2021-06-18T08:16:22.215300Z",
     "shell.execute_reply": "2021-06-18T08:16:22.215769Z",
     "shell.execute_reply.started": "2021-06-18T08:12:30.269416Z"
    },
    "papermill": {
     "duration": 0.417038,
     "end_time": "2021-06-18T08:16:22.215944",
     "exception": false,
     "start_time": "2021-06-18T08:16:21.798906",
     "status": "completed"
    },
    "tags": []
   },
   "outputs": [
    {
     "name": "stdout",
     "output_type": "stream",
     "text": [
      "Execution time of model: 0.10759 seconds\n"
     ]
    },
    {
     "data": {
      "image/png": "[encoded data removed]",
      "text/plain": [
       "<Figure size 504x216 with 2 Axes>"
      ]
     },
     "metadata": {
      "needs_background": "light"
     },
     "output_type": "display_data"
    },
    {
     "name": "stdout",
     "output_type": "stream",
     "text": [
      "Precision: 0.938 \n",
      "Recall: 0.882 \n",
      "F1-Score: 0.909 \n",
      "Accuracy: 90.164 %\n",
      "Mean Square Error: 0.098\n"
     ]
    }
   ],
   "source": [
    "start = time.time()\n",
    "\n",
    "model_ada = AdaBoostClassifier()\n",
    "model_ada.fit(X_train, y_train)\n",
    "y_pred = model_ada.predict(X_test)\n",
    "\n",
    "end = time.time()\n",
    "\n",
    "print(f'Execution time of model: {round((end - start), 5)} seconds')\n",
    "\n",
    "compute(y_test, y_pred)"
   ]
  },
  {
   "cell_type": "markdown",
   "metadata": {
    "papermill": {
     "duration": 0.044788,
     "end_time": "2021-06-18T08:16:22.305691",
     "exception": false,
     "start_time": "2021-06-18T08:16:22.260903",
     "status": "completed"
    },
    "tags": []
   },
   "source": [
    "### **7.GradientBoostingCXlassifier**"
   ]
  },
  {
   "cell_type": "code",
   "execution_count": 22,
   "metadata": {
    "execution": {
     "iopub.execute_input": "2021-06-18T08:16:22.403265Z",
     "iopub.status.busy": "2021-06-18T08:16:22.402178Z",
     "iopub.status.idle": "2021-06-18T08:16:22.737302Z",
     "shell.execute_reply": "2021-06-18T08:16:22.736717Z",
     "shell.execute_reply.started": "2021-06-18T08:12:30.615611Z"
    },
    "papermill": {
     "duration": 0.386804,
     "end_time": "2021-06-18T08:16:22.737440",
     "exception": false,
     "start_time": "2021-06-18T08:16:22.350636",
     "status": "completed"
    },
    "tags": []
   },
   "outputs": [
    {
     "name": "stdout",
     "output_type": "stream",
     "text": [
      "Execution time of model: 0.09338 seconds\n"
     ]
    },
    {
     "data": {
      "image/png": "[encoded data removed]",
      "text/plain": [
       "<Figure size 504x216 with 2 Axes>"
      ]
     },
     "metadata": {
      "needs_background": "light"
     },
     "output_type": "display_data"
    },
    {
     "name": "stdout",
     "output_type": "stream",
     "text": [
      "Precision: 0.824 \n",
      "Recall: 0.824 \n",
      "F1-Score: 0.824 \n",
      "Accuracy: 80.328 %\n",
      "Mean Square Error: 0.197\n"
     ]
    }
   ],
   "source": [
    "start = time.time()\n",
    "\n",
    "model_grad = GradientBoostingClassifier()\n",
    "model_grad.fit(X_train, y_train)\n",
    "y_pred = model_grad.predict(X_test)\n",
    "\n",
    "end = time.time()\n",
    "\n",
    "print(f'Execution time of model: {round((end - start), 5)} seconds')\n",
    "\n",
    "compute(y_test, y_pred)"
   ]
  },
  {
   "cell_type": "markdown",
   "metadata": {
    "papermill": {
     "duration": 0.050149,
     "end_time": "2021-06-18T08:16:22.834757",
     "exception": false,
     "start_time": "2021-06-18T08:16:22.784608",
     "status": "completed"
    },
    "tags": []
   },
   "source": [
    "### **8.XGBoostClassifier**"
   ]
  },
  {
   "cell_type": "code",
   "execution_count": 23,
   "metadata": {
    "execution": {
     "iopub.execute_input": "2021-06-18T08:16:22.937760Z",
     "iopub.status.busy": "2021-06-18T08:16:22.937096Z",
     "iopub.status.idle": "2021-06-18T08:16:23.261513Z",
     "shell.execute_reply": "2021-06-18T08:16:23.260483Z",
     "shell.execute_reply.started": "2021-06-18T08:12:30.946557Z"
    },
    "papermill": {
     "duration": 0.378036,
     "end_time": "2021-06-18T08:16:23.261691",
     "exception": false,
     "start_time": "2021-06-18T08:16:22.883655",
     "status": "completed"
    },
    "tags": []
   },
   "outputs": [
    {
     "name": "stderr",
     "output_type": "stream",
     "text": [
      "/opt/conda/lib/python3.7/site-packages/xgboost/sklearn.py:1146: UserWarning:\n",
      "\n",
      "The use of label encoder in XGBClassifier is deprecated and will be removed in a future release. To remove this warning, do the following: 1) Pass option use_label_encoder=False when constructing XGBClassifier object; and 2) Encode your labels (y) as integers starting with 0, i.e. 0, 1, 2, ..., [num_class - 1].\n",
      "\n"
     ]
    },
    {
     "name": "stdout",
     "output_type": "stream",
     "text": [
      "[08:16:22] WARNING: ../src/learner.cc:1095: Starting in XGBoost 1.3.0, the default evaluation metric used with the objective 'binary:logistic' was changed from 'error' to 'logloss'. Explicitly set eval_metric if you'd like to restore the old behavior.\n",
      "Execution time of model: 0.07517 seconds\n"
     ]
    },
    {
     "data": {
      "image/png": "[encoded data removed]",
      "text/plain": [
       "<Figure size 504x216 with 2 Axes>"
      ]
     },
     "metadata": {
      "needs_background": "light"
     },
     "output_type": "display_data"
    },
    {
     "name": "stdout",
     "output_type": "stream",
     "text": [
      "Precision: 0.818 \n",
      "Recall: 0.794 \n",
      "F1-Score: 0.806 \n",
      "Accuracy: 78.689 %\n",
      "Mean Square Error: 0.213\n"
     ]
    }
   ],
   "source": [
    "start = time.time()\n",
    "\n",
    "model_xg = XGBClassifier()\n",
    "model_xg.fit(X_train, y_train)\n",
    "y_pred = model_xg.predict(X_test)\n",
    "\n",
    "end = time.time()\n",
    "\n",
    "print(f'Execution time of model: {round((end - start), 5)} seconds')\n",
    "\n",
    "compute(y_test, y_pred)"
   ]
  },
  {
   "cell_type": "markdown",
   "metadata": {
    "execution": {
     "iopub.execute_input": "2021-06-18T07:12:36.657635Z",
     "iopub.status.busy": "2021-06-18T07:12:36.657293Z",
     "iopub.status.idle": "2021-06-18T07:12:36.660778Z",
     "shell.execute_reply": "2021-06-18T07:12:36.659973Z",
     "shell.execute_reply.started": "2021-06-18T07:12:36.657605Z"
    },
    "papermill": {
     "duration": 0.047539,
     "end_time": "2021-06-18T08:16:23.362262",
     "exception": false,
     "start_time": "2021-06-18T08:16:23.314723",
     "status": "completed"
    },
    "tags": []
   },
   "source": [
    "### <h1 style='color:blue'>**Accuracy Comparision of all model**</h1>"
   ]
  },
  {
   "cell_type": "code",
   "execution_count": 24,
   "metadata": {
    "execution": {
     "iopub.execute_input": "2021-06-18T08:16:23.519682Z",
     "iopub.status.busy": "2021-06-18T08:16:23.499447Z",
     "iopub.status.idle": "2021-06-18T08:16:23.643333Z",
     "shell.execute_reply": "2021-06-18T08:16:23.642761Z",
     "shell.execute_reply.started": "2021-06-18T08:12:31.268289Z"
    },
    "papermill": {
     "duration": 0.232839,
     "end_time": "2021-06-18T08:16:23.643475",
     "exception": false,
     "start_time": "2021-06-18T08:16:23.410636",
     "status": "completed"
    },
    "tags": []
   },
   "outputs": [
    {
     "data": {
      "image/png": "[encoded data removed]",
      "text/plain": [
       "<Figure size 720x432 with 1 Axes>"
      ]
     },
     "metadata": {
      "needs_background": "light"
     },
     "output_type": "display_data"
    }
   ],
   "source": [
    "plt.figure(figsize = (10,6))\n",
    "Model = ['Logistic Reg', 'KNN', 'SVM', 'Decision Tree', 'Random forest', 'Ada_Boost', 'Gradient_Boost', 'XG_boost']\n",
    "Accuracy = [85.24, 63.93, 68.85, 73.77, 85.24, 90.16, 80.32, 78.69]\n",
    "\n",
    "plt.barh(Model, Accuracy, color = 'pink')\n",
    "plt.title('Accuracy Comparision of Different Model')\n",
    "plt.xlabel('Model')\n",
    "plt.ylabel('Accuracy')\n",
    "plt.show()"
   ]
  },
  {
   "cell_type": "markdown",
   "metadata": {
    "papermill": {
     "duration": 0.048755,
     "end_time": "2021-06-18T08:16:23.741251",
     "exception": false,
     "start_time": "2021-06-18T08:16:23.692496",
     "status": "completed"
    },
    "tags": []
   },
   "source": [
    "**From above graph is clearly shows that Ada boosting has high accuracy compare to other models.**"
   ]
  },
  {
   "cell_type": "markdown",
   "metadata": {
    "papermill": {
     "duration": 0.04939,
     "end_time": "2021-06-18T08:16:23.839616",
     "exception": false,
     "start_time": "2021-06-18T08:16:23.790226",
     "status": "completed"
    },
    "tags": []
   },
   "source": [
    "### <h1 style='color:blue'>**Execution Time Comparision of all models**</h1>"
   ]
  },
  {
   "cell_type": "code",
   "execution_count": 25,
   "metadata": {
    "execution": {
     "iopub.execute_input": "2021-06-18T08:16:23.996456Z",
     "iopub.status.busy": "2021-06-18T08:16:23.995135Z",
     "iopub.status.idle": "2021-06-18T08:16:24.178117Z",
     "shell.execute_reply": "2021-06-18T08:16:24.177020Z",
     "shell.execute_reply.started": "2021-06-18T08:12:31.435777Z"
    },
    "papermill": {
     "duration": 0.268338,
     "end_time": "2021-06-18T08:16:24.178278",
     "exception": false,
     "start_time": "2021-06-18T08:16:23.909940",
     "status": "completed"
    },
    "tags": []
   },
   "outputs": [
    {
     "data": {
      "image/png": "[encoded data removed]",
      "text/plain": [
       "<Figure size 720x432 with 1 Axes>"
      ]
     },
     "metadata": {
      "needs_background": "light"
     },
     "output_type": "display_data"
    }
   ],
   "source": [
    "plt.figure(figsize = (10,6))\n",
    "Model = ['Logistic Reg', 'KNN', 'SVM', 'Decision Tree', 'Random forest', 'Ada_Boost', 'Gradient_Boost', 'XG_boost']\n",
    "ExecutionTime = [0.0232, 0.0071, 0.0054, 0.0036, 0.2068, 0.0707, 0.0755, 0.0490]\n",
    "\n",
    "plt.barh(Model, ExecutionTime, color = 'purple')\n",
    "plt.title('Execution Time Comparision of Different Models')\n",
    "plt.xlabel('Execution Time in seconds')\n",
    "plt.ylabel('Model')\n",
    "plt.show()"
   ]
  },
  {
   "cell_type": "markdown",
   "metadata": {
    "papermill": {
     "duration": 0.049523,
     "end_time": "2021-06-18T08:16:24.277875",
     "exception": false,
     "start_time": "2021-06-18T08:16:24.228352",
     "status": "completed"
    },
    "tags": []
   },
   "source": [
    "### <h1 style='color:Blue'>**Thank You**</h1>"
   ]
  }
 ],
 "metadata": {
  "kernelspec": {
   "display_name": "Python 3",
   "language": "python",
   "name": "python3"
  },
  "language_info": {
   "codemirror_mode": {
    "name": "ipython",
    "version": 3
   },
   "file_extension": ".py",
   "mimetype": "text/x-python",
   "name": "python",
   "nbconvert_exporter": "python",
   "pygments_lexer": "ipython3",
   "version": "3.8.5"
  },
  "papermill": {
   "default_parameters": {},
   "duration": 21.98238,
   "end_time": "2021-06-18T08:16:25.837381",
   "environment_variables": {},
   "exception": null,
   "input_path": "__notebook__.ipynb",
   "output_path": "__notebook__.ipynb",
   "parameters": {},
   "start_time": "2021-06-18T08:16:03.855001",
   "version": "2.3.3"
  }
 },
 "nbformat": 4,
 "nbformat_minor": 5
}
